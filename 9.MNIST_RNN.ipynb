{
  "nbformat": 4,
  "nbformat_minor": 0,
  "metadata": {
    "colab": {
      "name": "Untitled20.ipynb",
      "provenance": []
    },
    "kernelspec": {
      "name": "python3",
      "display_name": "Python 3"
    },
    "accelerator": "GPU"
  },
  "cells": [
    {
      "cell_type": "code",
      "metadata": {
        "id": "N0T6B1RGc-Rp",
        "colab_type": "code",
        "colab": {
          "base_uri": "https://localhost:8080/",
          "height": 935
        },
        "outputId": "8dbbe9c9-0f30-421b-fecf-bddbee430432"
      },
      "source": [
        "from keras.datasets import mnist\n",
        "from keras.layers import Dense, LSTM\n",
        "from keras.utils import to_categorical\n",
        "from keras.models import Sequential\n",
        "\n",
        "#parameters for LSTM\n",
        "nb_lstm_outputs = 30  \n",
        "nb_time_steps = 28  \n",
        "nb_input_vector = 28 \n",
        "\n",
        "#data preprocessing: tofloat32, normalization, one_hot encoding\n",
        "(x_train, y_train), (x_test, y_test) = mnist.load_data()\n",
        "x_train = x_train.astype('float32')\n",
        "x_test = x_test.astype('float32')\n",
        "x_train /= 255\n",
        "x_test /= 255\n",
        " \n",
        "y_train = to_categorical(y_train, num_classes=10)\n",
        "y_test = to_categorical(y_test, num_classes=10)\n",
        "\n",
        "#build model\n",
        "model = Sequential()\n",
        "model.add(LSTM(units=nb_lstm_outputs, input_shape=(nb_time_steps, nb_input_vector)))\n",
        "model.add(Dense(10, activation='softmax'))\n",
        "\n",
        "#compile:loss, optimizer, metrics\n",
        "model.compile(loss='categorical_crossentropy', optimizer='adam', metrics=['accuracy'])\n",
        "#train: epcoch, batch_size\n",
        "model.fit(x_train, y_train, epochs=20, batch_size=128, verbose=1)\n",
        "\n",
        "model.summary()\n",
        "\n",
        "score = model.evaluate(x_test, y_test,batch_size=128, verbose=1)\n",
        "print(score)"
      ],
      "execution_count": 4,
      "outputs": [
        {
          "output_type": "stream",
          "text": [
            "Epoch 1/20\n",
            "60000/60000 [==============================] - 22s 365us/step - loss: 1.0105 - accuracy: 0.6863\n",
            "Epoch 2/20\n",
            "60000/60000 [==============================] - 22s 360us/step - loss: 0.3272 - accuracy: 0.9061\n",
            "Epoch 3/20\n",
            "60000/60000 [==============================] - 23s 389us/step - loss: 0.2245 - accuracy: 0.9353\n",
            "Epoch 4/20\n",
            "60000/60000 [==============================] - 23s 378us/step - loss: 0.1800 - accuracy: 0.9476\n",
            "Epoch 5/20\n",
            "60000/60000 [==============================] - 22s 359us/step - loss: 0.1493 - accuracy: 0.9565\n",
            "Epoch 6/20\n",
            "60000/60000 [==============================] - 21s 351us/step - loss: 0.1309 - accuracy: 0.9616\n",
            "Epoch 7/20\n",
            "60000/60000 [==============================] - 21s 358us/step - loss: 0.1181 - accuracy: 0.9656\n",
            "Epoch 8/20\n",
            "60000/60000 [==============================] - 22s 359us/step - loss: 0.1059 - accuracy: 0.9682\n",
            "Epoch 9/20\n",
            "60000/60000 [==============================] - 22s 359us/step - loss: 0.0968 - accuracy: 0.9714\n",
            "Epoch 10/20\n",
            "60000/60000 [==============================] - 22s 359us/step - loss: 0.0909 - accuracy: 0.9725\n",
            "Epoch 11/20\n",
            "60000/60000 [==============================] - 21s 357us/step - loss: 0.0837 - accuracy: 0.9753\n",
            "Epoch 12/20\n",
            "60000/60000 [==============================] - 22s 359us/step - loss: 0.0789 - accuracy: 0.9761\n",
            "Epoch 13/20\n",
            "60000/60000 [==============================] - 22s 360us/step - loss: 0.0746 - accuracy: 0.9776\n",
            "Epoch 14/20\n",
            "60000/60000 [==============================] - 22s 359us/step - loss: 0.0715 - accuracy: 0.9787\n",
            "Epoch 15/20\n",
            "60000/60000 [==============================] - 22s 360us/step - loss: 0.0663 - accuracy: 0.9802\n",
            "Epoch 16/20\n",
            "60000/60000 [==============================] - 22s 362us/step - loss: 0.0646 - accuracy: 0.9804\n",
            "Epoch 17/20\n",
            "60000/60000 [==============================] - 22s 364us/step - loss: 0.0607 - accuracy: 0.9810\n",
            "Epoch 18/20\n",
            "60000/60000 [==============================] - 21s 357us/step - loss: 0.0603 - accuracy: 0.9814\n",
            "Epoch 19/20\n",
            "60000/60000 [==============================] - 21s 357us/step - loss: 0.0559 - accuracy: 0.9826\n",
            "Epoch 20/20\n",
            "60000/60000 [==============================] - 22s 359us/step - loss: 0.0552 - accuracy: 0.9829\n",
            "Model: \"sequential_3\"\n",
            "_________________________________________________________________\n",
            "Layer (type)                 Output Shape              Param #   \n",
            "=================================================================\n",
            "lstm_2 (LSTM)                (None, 30)                7080      \n",
            "_________________________________________________________________\n",
            "dense_4 (Dense)              (None, 10)                310       \n",
            "=================================================================\n",
            "Total params: 7,390\n",
            "Trainable params: 7,390\n",
            "Non-trainable params: 0\n",
            "_________________________________________________________________\n",
            "10000/10000 [==============================] - 0s 48us/step\n",
            "[0.07254905423894524, 0.9782999753952026]\n"
          ],
          "name": "stdout"
        }
      ]
    }
  ]
}