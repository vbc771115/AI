{
  "nbformat": 4,
  "nbformat_minor": 0,
  "metadata": {
    "colab": {
      "name": "Untitled6.ipynb",
      "provenance": []
    },
    "kernelspec": {
      "name": "python3",
      "display_name": "Python 3"
    }
  },
  "cells": [
    {
      "cell_type": "code",
      "metadata": {
        "id": "5hfkU1GIEr4a",
        "colab_type": "code",
        "colab": {
          "base_uri": "https://localhost:8080/",
          "height": 493
        },
        "outputId": "7299d3cc-e10d-4d79-d2d9-059f9625b627"
      },
      "source": [
        "import keras\n",
        "from keras.models import Sequential\n",
        "from keras.layers import Dense\n",
        "\n",
        "import numpy as np\n",
        "data = np.random.random((1000, 10)) #隨機產生1000筆資料，每筆資料1包含十個float數字\n",
        "labels = np.random.randint(2, size=(1000, 1)) #隨機產生1000筆資料，每筆資料上限為2(意思就是0 或 1)\n",
        "print(np.shape(data))\n",
        "print(data[0])\n",
        "print(np.shape(labels))\n",
        "print(labels[0])\n",
        "\n",
        "model = Sequential()\n",
        "model.add(Dense(32, activation='relu', input_dim=10))\n",
        "model.add(Dense(1, activation='sigmoid'))\n",
        "model.compile(optimizer='rmsprop', loss='binary_crossentropy', metrics=['accuracy'])\n",
        "\n",
        "model.fit(data, labels, epochs=10, batch_size=32)\n",
        "\n",
        "score=model.evaluate(data, labels)\n",
        "print(score[1])"
      ],
      "execution_count": 1,
      "outputs": [
        {
          "output_type": "stream",
          "text": [
            "Using TensorFlow backend.\n"
          ],
          "name": "stderr"
        },
        {
          "output_type": "stream",
          "text": [
            "(1000, 10)\n",
            "[0.60774643 0.3354786  0.35895286 0.71714714 0.38904141 0.60530682\n",
            " 0.5696237  0.29094596 0.44739545 0.50751298]\n",
            "(1000, 1)\n",
            "[1]\n",
            "Epoch 1/10\n",
            "1000/1000 [==============================] - 0s 262us/step - loss: 0.6973 - accuracy: 0.4780\n",
            "Epoch 2/10\n",
            "1000/1000 [==============================] - 0s 32us/step - loss: 0.6955 - accuracy: 0.4910\n",
            "Epoch 3/10\n",
            "1000/1000 [==============================] - 0s 32us/step - loss: 0.6945 - accuracy: 0.4970\n",
            "Epoch 4/10\n",
            "1000/1000 [==============================] - 0s 38us/step - loss: 0.6939 - accuracy: 0.5030\n",
            "Epoch 5/10\n",
            "1000/1000 [==============================] - 0s 32us/step - loss: 0.6933 - accuracy: 0.5050\n",
            "Epoch 6/10\n",
            "1000/1000 [==============================] - 0s 31us/step - loss: 0.6926 - accuracy: 0.5050\n",
            "Epoch 7/10\n",
            "1000/1000 [==============================] - 0s 33us/step - loss: 0.6920 - accuracy: 0.5120\n",
            "Epoch 8/10\n",
            "1000/1000 [==============================] - 0s 33us/step - loss: 0.6916 - accuracy: 0.5330\n",
            "Epoch 9/10\n",
            "1000/1000 [==============================] - 0s 42us/step - loss: 0.6916 - accuracy: 0.5120\n",
            "Epoch 10/10\n",
            "1000/1000 [==============================] - 0s 35us/step - loss: 0.6911 - accuracy: 0.5260\n",
            "1000/1000 [==============================] - 0s 32us/step\n",
            "0.5260000228881836\n"
          ],
          "name": "stdout"
        }
      ]
    }
  ]
}