{
  "nbformat": 4,
  "nbformat_minor": 0,
  "metadata": {
    "colab": {
      "name": "Untitled9.ipynb",
      "provenance": []
    },
    "kernelspec": {
      "name": "python3",
      "display_name": "Python 3"
    },
    "accelerator": "GPU"
  },
  "cells": [
    {
      "cell_type": "code",
      "metadata": {
        "id": "dKLpZmzJHibY",
        "colab_type": "code",
        "colab": {
          "base_uri": "https://localhost:8080/",
          "height": 734
        },
        "outputId": "07729042-bd56-4b3e-94a0-047bfef1e5cb"
      },
      "source": [
        "import keras\n",
        "from keras.datasets import mnist\n",
        "from keras.models import Sequential\n",
        "from keras.layers import Dense, Dropout, LeakyReLU, Conv2D\n",
        "from keras.optimizers import RMSprop\n",
        "from keras import backend as K\n",
        "from matplotlib.pyplot import imshow\n",
        "import numpy as np\n",
        "\n",
        "\n",
        "(x_train, y_train), (x_test, y_test) = mnist.load_data()\n",
        "\n",
        "x_train = x_train.reshape(60000, 784)\n",
        "x_test = x_test.reshape(10000, 784)\n",
        "x_train = x_train.astype('float32')\n",
        "x_test = x_test.astype('float32')\n",
        "x_train /= 255\n",
        "x_test /= 255\n",
        "print(x_train.shape[0], 'train samples')\n",
        "print(x_test.shape[0], 'test samples')\n",
        "num_classes = 10\n",
        "y_train = keras.utils.to_categorical(y_train, num_classes)\n",
        "y_test = keras.utils.to_categorical(y_test, num_classes)\n",
        "\n",
        "model = Sequential()\n",
        "model.add(Dense(20, activation=LeakyReLU(), input_shape=(784,)))\n",
        "model.add(Dense(20, activation=LeakyReLU()))\n",
        "model.add(Dense(10, activation='softmax'))\n",
        "model.summary()\n",
        "\n",
        "model.compile(loss='categorical_crossentropy',\n",
        "              optimizer=RMSprop(),\n",
        "              metrics=['accuracy'])\n",
        "\n",
        "history = model.fit(x_train, y_train,\n",
        "                    batch_size=128,\n",
        "                    epochs=10,\n",
        "                    verbose=1,\n",
        "                    validation_data=(x_test, y_test))\n",
        "\n",
        "scores = model.evaluate(x_test, y_test)\n",
        "print(scores[1])"
      ],
      "execution_count": 2,
      "outputs": [
        {
          "output_type": "stream",
          "text": [
            "60000 train samples\n",
            "10000 test samples\n"
          ],
          "name": "stdout"
        },
        {
          "output_type": "stream",
          "text": [
            "/usr/local/lib/python3.6/dist-packages/keras/activations.py:235: UserWarning: Do not pass a layer instance (such as LeakyReLU) as the activation argument of another layer. Instead, advanced activation layers should be used just like any other layer in a model.\n",
            "  identifier=identifier.__class__.__name__))\n"
          ],
          "name": "stderr"
        },
        {
          "output_type": "stream",
          "text": [
            "Model: \"sequential_1\"\n",
            "_________________________________________________________________\n",
            "Layer (type)                 Output Shape              Param #   \n",
            "=================================================================\n",
            "dense_1 (Dense)              (None, 20)                15700     \n",
            "_________________________________________________________________\n",
            "dense_2 (Dense)              (None, 20)                420       \n",
            "_________________________________________________________________\n",
            "dense_3 (Dense)              (None, 10)                210       \n",
            "=================================================================\n",
            "Total params: 16,330\n",
            "Trainable params: 16,330\n",
            "Non-trainable params: 0\n",
            "_________________________________________________________________\n",
            "Train on 60000 samples, validate on 10000 samples\n",
            "Epoch 1/10\n",
            "60000/60000 [==============================] - 3s 50us/step - loss: 0.5483 - accuracy: 0.8493 - val_loss: 0.3034 - val_accuracy: 0.9143\n",
            "Epoch 2/10\n",
            "60000/60000 [==============================] - 1s 22us/step - loss: 0.2883 - accuracy: 0.9173 - val_loss: 0.2645 - val_accuracy: 0.9238\n",
            "Epoch 3/10\n",
            "60000/60000 [==============================] - 1s 22us/step - loss: 0.2555 - accuracy: 0.9266 - val_loss: 0.2473 - val_accuracy: 0.9284\n",
            "Epoch 4/10\n",
            "60000/60000 [==============================] - 1s 22us/step - loss: 0.2342 - accuracy: 0.9328 - val_loss: 0.2262 - val_accuracy: 0.9327\n",
            "Epoch 5/10\n",
            "60000/60000 [==============================] - 1s 22us/step - loss: 0.2162 - accuracy: 0.9377 - val_loss: 0.2190 - val_accuracy: 0.9351\n",
            "Epoch 6/10\n",
            "60000/60000 [==============================] - 1s 23us/step - loss: 0.2030 - accuracy: 0.9416 - val_loss: 0.2170 - val_accuracy: 0.9371\n",
            "Epoch 7/10\n",
            "60000/60000 [==============================] - 1s 23us/step - loss: 0.1911 - accuracy: 0.9452 - val_loss: 0.1993 - val_accuracy: 0.9416\n",
            "Epoch 8/10\n",
            "60000/60000 [==============================] - 1s 23us/step - loss: 0.1806 - accuracy: 0.9481 - val_loss: 0.1931 - val_accuracy: 0.9431\n",
            "Epoch 9/10\n",
            "60000/60000 [==============================] - 1s 23us/step - loss: 0.1716 - accuracy: 0.9507 - val_loss: 0.1912 - val_accuracy: 0.9443\n",
            "Epoch 10/10\n",
            "60000/60000 [==============================] - 1s 23us/step - loss: 0.1640 - accuracy: 0.9528 - val_loss: 0.1893 - val_accuracy: 0.9458\n",
            "10000/10000 [==============================] - 0s 47us/step\n",
            "0.9458000063896179\n"
          ],
          "name": "stdout"
        }
      ]
    }
  ]
}